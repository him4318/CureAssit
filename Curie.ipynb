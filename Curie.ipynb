{
 "cells": [
  {
   "cell_type": "code",
   "execution_count": 1,
   "metadata": {},
   "outputs": [],
   "source": [
    "\n",
    "import numpy as np # linear algebra\n",
    "import pandas as pd # data processing, CSV file I/O (e.g. pd.read_csv)"
   ]
  },
  {
   "cell_type": "code",
   "execution_count": 2,
   "metadata": {
    "scrolled": true
   },
   "outputs": [],
   "source": [
    "disease = pd.read_excel(r'data.xls',sheet_name='disease_terms')\n",
    "symp = pd.read_excel(r'data.xls',sheet_name='symptom_terms',columns={'Terms':'symptom'})\n",
    "rel = pd.read_excel(r'data.xls',heet_name=\"dis_symp_relationships\") #relationship dataset that is used to merge disease and symptoms"
   ]
  },
  {
   "cell_type": "code",
   "execution_count": 3,
   "metadata": {
    "scrolled": true
   },
   "outputs": [],
   "source": [
    "disease = disease.rename(columns={'Terms':'disease'})\n",
    "symp = symp.rename(columns={'Terms':'symptoms'})"
   ]
  },
  {
   "cell_type": "code",
   "execution_count": 4,
   "metadata": {
    "scrolled": true
   },
   "outputs": [
    {
     "data": {
      "text/html": [
       "<div>\n",
       "<style scoped>\n",
       "    .dataframe tbody tr th:only-of-type {\n",
       "        vertical-align: middle;\n",
       "    }\n",
       "\n",
       "    .dataframe tbody tr th {\n",
       "        vertical-align: top;\n",
       "    }\n",
       "\n",
       "    .dataframe thead th {\n",
       "        text-align: right;\n",
       "    }\n",
       "</style>\n",
       "<table border=\"1\" class=\"dataframe\">\n",
       "  <thead>\n",
       "    <tr style=\"text-align: right;\">\n",
       "      <th></th>\n",
       "      <th>rid</th>\n",
       "      <th>disease_cui</th>\n",
       "      <th>snomed_code</th>\n",
       "      <th>disease</th>\n",
       "    </tr>\n",
       "  </thead>\n",
       "  <tbody>\n",
       "    <tr>\n",
       "      <th>0</th>\n",
       "      <td>1</td>\n",
       "      <td>C0343681</td>\n",
       "      <td>240562003</td>\n",
       "      <td>Pustular syphilide</td>\n",
       "    </tr>\n",
       "    <tr>\n",
       "      <th>1</th>\n",
       "      <td>2</td>\n",
       "      <td>C0027145</td>\n",
       "      <td>43153006</td>\n",
       "      <td>Myxedema (disorder)</td>\n",
       "    </tr>\n",
       "    <tr>\n",
       "      <th>2</th>\n",
       "      <td>3</td>\n",
       "      <td>C0156346</td>\n",
       "      <td>198253003</td>\n",
       "      <td>Endometriosis of rectovaginal septum and vagina</td>\n",
       "    </tr>\n",
       "    <tr>\n",
       "      <th>3</th>\n",
       "      <td>4</td>\n",
       "      <td>C0264604</td>\n",
       "      <td>51100001</td>\n",
       "      <td>Hypokinetic parkinsonian dysphonia</td>\n",
       "    </tr>\n",
       "    <tr>\n",
       "      <th>4</th>\n",
       "      <td>5</td>\n",
       "      <td>C0268982</td>\n",
       "      <td>72746005</td>\n",
       "      <td>Infertility due to incomplete spermatogenic ar...</td>\n",
       "    </tr>\n",
       "  </tbody>\n",
       "</table>\n",
       "</div>"
      ],
      "text/plain": [
       "   rid disease_cui  snomed_code  \\\n",
       "0    1    C0343681    240562003   \n",
       "1    2    C0027145     43153006   \n",
       "2    3    C0156346    198253003   \n",
       "3    4    C0264604     51100001   \n",
       "4    5    C0268982     72746005   \n",
       "\n",
       "                                             disease  \n",
       "0                                 Pustular syphilide  \n",
       "1                                Myxedema (disorder)  \n",
       "2    Endometriosis of rectovaginal septum and vagina  \n",
       "3                 Hypokinetic parkinsonian dysphonia  \n",
       "4  Infertility due to incomplete spermatogenic ar...  "
      ]
     },
     "execution_count": 4,
     "metadata": {},
     "output_type": "execute_result"
    }
   ],
   "source": [
    "disease.head(5)"
   ]
  },
  {
   "cell_type": "code",
   "execution_count": 5,
   "metadata": {
    "scrolled": true
   },
   "outputs": [
    {
     "data": {
      "text/html": [
       "<div>\n",
       "<style scoped>\n",
       "    .dataframe tbody tr th:only-of-type {\n",
       "        vertical-align: middle;\n",
       "    }\n",
       "\n",
       "    .dataframe tbody tr th {\n",
       "        vertical-align: top;\n",
       "    }\n",
       "\n",
       "    .dataframe thead th {\n",
       "        text-align: right;\n",
       "    }\n",
       "</style>\n",
       "<table border=\"1\" class=\"dataframe\">\n",
       "  <thead>\n",
       "    <tr style=\"text-align: right;\">\n",
       "      <th></th>\n",
       "      <th>rid</th>\n",
       "      <th>symptom_cui</th>\n",
       "      <th>snomed_code</th>\n",
       "      <th>symptoms</th>\n",
       "    </tr>\n",
       "  </thead>\n",
       "  <tbody>\n",
       "    <tr>\n",
       "      <th>0</th>\n",
       "      <td>1</td>\n",
       "      <td>C0007940</td>\n",
       "      <td>5168000</td>\n",
       "      <td>Sporotrichotic chancre</td>\n",
       "    </tr>\n",
       "    <tr>\n",
       "      <th>1</th>\n",
       "      <td>2</td>\n",
       "      <td>C0157725</td>\n",
       "      <td>201023009</td>\n",
       "      <td>Other specified pruritic conditions (disorder)</td>\n",
       "    </tr>\n",
       "    <tr>\n",
       "      <th>2</th>\n",
       "      <td>3</td>\n",
       "      <td>C0234544</td>\n",
       "      <td>66264000</td>\n",
       "      <td>Todd's paresis</td>\n",
       "    </tr>\n",
       "    <tr>\n",
       "      <th>3</th>\n",
       "      <td>4</td>\n",
       "      <td>C0231246</td>\n",
       "      <td>36440009</td>\n",
       "      <td>Failure to gain weight (finding)</td>\n",
       "    </tr>\n",
       "    <tr>\n",
       "      <th>4</th>\n",
       "      <td>5</td>\n",
       "      <td>C0427086</td>\n",
       "      <td>267078001</td>\n",
       "      <td>Involuntary movement</td>\n",
       "    </tr>\n",
       "  </tbody>\n",
       "</table>\n",
       "</div>"
      ],
      "text/plain": [
       "   rid symptom_cui  snomed_code  \\\n",
       "0    1    C0007940      5168000   \n",
       "1    2    C0157725    201023009   \n",
       "2    3    C0234544     66264000   \n",
       "3    4    C0231246     36440009   \n",
       "4    5    C0427086    267078001   \n",
       "\n",
       "                                         symptoms  \n",
       "0                          Sporotrichotic chancre  \n",
       "1  Other specified pruritic conditions (disorder)  \n",
       "2                                  Todd's paresis  \n",
       "3                Failure to gain weight (finding)  \n",
       "4                            Involuntary movement  "
      ]
     },
     "execution_count": 5,
     "metadata": {},
     "output_type": "execute_result"
    }
   ],
   "source": [
    "symp.head(5)"
   ]
  },
  {
   "cell_type": "code",
   "execution_count": 6,
   "metadata": {},
   "outputs": [
    {
     "data": {
      "text/html": [
       "<div>\n",
       "<style scoped>\n",
       "    .dataframe tbody tr th:only-of-type {\n",
       "        vertical-align: middle;\n",
       "    }\n",
       "\n",
       "    .dataframe tbody tr th {\n",
       "        vertical-align: top;\n",
       "    }\n",
       "\n",
       "    .dataframe thead th {\n",
       "        text-align: right;\n",
       "    }\n",
       "</style>\n",
       "<table border=\"1\" class=\"dataframe\">\n",
       "  <thead>\n",
       "    <tr style=\"text-align: right;\">\n",
       "      <th></th>\n",
       "      <th>rid</th>\n",
       "      <th>disease_cui</th>\n",
       "      <th>symptom_cui</th>\n",
       "    </tr>\n",
       "  </thead>\n",
       "  <tbody>\n",
       "    <tr>\n",
       "      <th>0</th>\n",
       "      <td>1</td>\n",
       "      <td>C0001175</td>\n",
       "      <td>C1720342</td>\n",
       "    </tr>\n",
       "    <tr>\n",
       "      <th>1</th>\n",
       "      <td>898</td>\n",
       "      <td>C0001175</td>\n",
       "      <td>C1720231</td>\n",
       "    </tr>\n",
       "    <tr>\n",
       "      <th>2</th>\n",
       "      <td>1167</td>\n",
       "      <td>C0001175</td>\n",
       "      <td>C1719857</td>\n",
       "    </tr>\n",
       "    <tr>\n",
       "      <th>3</th>\n",
       "      <td>2</td>\n",
       "      <td>C0001314</td>\n",
       "      <td>C0232597</td>\n",
       "    </tr>\n",
       "    <tr>\n",
       "      <th>4</th>\n",
       "      <td>308</td>\n",
       "      <td>C0001314</td>\n",
       "      <td>C0585542</td>\n",
       "    </tr>\n",
       "  </tbody>\n",
       "</table>\n",
       "</div>"
      ],
      "text/plain": [
       "    rid disease_cui symptom_cui\n",
       "0     1    C0001175    C1720342\n",
       "1   898    C0001175    C1720231\n",
       "2  1167    C0001175    C1719857\n",
       "3     2    C0001314    C0232597\n",
       "4   308    C0001314    C0585542"
      ]
     },
     "execution_count": 6,
     "metadata": {},
     "output_type": "execute_result"
    }
   ],
   "source": [
    "rel.head(5)"
   ]
  },
  {
   "cell_type": "code",
   "execution_count": 7,
   "metadata": {
    "scrolled": true
   },
   "outputs": [],
   "source": [
    "comb = rel.merge(disease,on='disease_cui',how='left')"
   ]
  },
  {
   "cell_type": "code",
   "execution_count": 8,
   "metadata": {
    "scrolled": true
   },
   "outputs": [],
   "source": [
    "comb = comb.merge(symp,on='symptom_cui',how='left')"
   ]
  },
  {
   "cell_type": "code",
   "execution_count": 9,
   "metadata": {},
   "outputs": [],
   "source": [
    "comb.dropna(inplace=True) #dropping null values"
   ]
  },
  {
   "cell_type": "code",
   "execution_count": 10,
   "metadata": {
    "scrolled": true
   },
   "outputs": [],
   "source": [
    "import itertools\n",
    "from nltk.tokenize import word_tokenize\n",
    "from nltk.corpus import stopwords\n",
    "stop_words = set(stopwords.words('english'))\n",
    "import re\n",
    "def cleanup(s):\n",
    "    \n",
    "    s = str(s)\n",
    "    s = s.lower()\n",
    "    s = re.sub('rt*.@\\w+',' ',s)\n",
    "    s = re.sub('@\\w+',' ',s)\n",
    "    s = re.sub('\\W,\\s',' ',s)\n",
    "    s = re.sub(r'[^\\w,]', ' ', s)\n",
    "    s = re.sub(\"\\d+\", \"\", s)\n",
    "    s = re.sub('\\s+',' ',s)\n",
    "    s = re.sub('[!@#$_“”¨«»®´·º½¾¿¡§£₤‘’]', '', s)\n",
    "    s = s.replace(\".co\",\"\")\n",
    "    s = s.replace(\",\",\"\")\n",
    "    s = s.replace(\"[\\w*\",\" \")\n",
    "    s = s.replace('symptom','') # remove symptom word attached in text\n",
    "    s = ''.join(''.join(a)[:2] for _, a in itertools.groupby(s)) #changing words like cooool to cool\n",
    "    word_tokens = word_tokenize(s)\n",
    "    s = [w for w in word_tokens if not w in stop_words] #stopwords removal\n",
    "    s = \" \".join(s)\n",
    "    s = re.sub(r'\\b\\w{1,2}\\b','', s) #remove words having length less than 3\n",
    "    return s"
   ]
  },
  {
   "cell_type": "code",
   "execution_count": 11,
   "metadata": {},
   "outputs": [],
   "source": [
    "from nltk import word_tokenize, pos_tag\n",
    "from nltk.stem import WordNetLemmatizer\n",
    "wnl = WordNetLemmatizer()\n",
    "\n",
    "def lemme(s):\n",
    "    a = [wnl.lemmatize(i,j[0].lower()) if j[0].lower() in ['a','n','v'] else wnl.lemmatize(i) for i,j in pos_tag(word_tokenize(s))]\n",
    "    return \" \".join(a)"
   ]
  },
  {
   "cell_type": "code",
   "execution_count": 12,
   "metadata": {},
   "outputs": [],
   "source": [
    "comb['clean'] = comb.symptoms.apply(cleanup) # cleaning symptoms texts"
   ]
  },
  {
   "cell_type": "code",
   "execution_count": 13,
   "metadata": {
    "scrolled": true
   },
   "outputs": [],
   "source": [
    "comb['lemme'] = comb.clean.apply(lemme) # performing lemmatizer so that ambiguity can be removed\n",
    "                                        #So that root meaning can be used"
   ]
  },
  {
   "cell_type": "code",
   "execution_count": 14,
   "metadata": {
    "scrolled": true
   },
   "outputs": [],
   "source": [
    "comb = comb[['disease','lemme']]  #keeping only disease and lemmatise text\n",
    "comb = comb.rename(columns={'lemme':'symptoms'})"
   ]
  },
  {
   "cell_type": "code",
   "execution_count": 15,
   "metadata": {},
   "outputs": [
    {
     "data": {
      "text/html": [
       "<div>\n",
       "<style scoped>\n",
       "    .dataframe tbody tr th:only-of-type {\n",
       "        vertical-align: middle;\n",
       "    }\n",
       "\n",
       "    .dataframe tbody tr th {\n",
       "        vertical-align: top;\n",
       "    }\n",
       "\n",
       "    .dataframe thead th {\n",
       "        text-align: right;\n",
       "    }\n",
       "</style>\n",
       "<table border=\"1\" class=\"dataframe\">\n",
       "  <thead>\n",
       "    <tr style=\"text-align: right;\">\n",
       "      <th></th>\n",
       "      <th>disease</th>\n",
       "      <th>symptoms</th>\n",
       "    </tr>\n",
       "  </thead>\n",
       "  <tbody>\n",
       "    <tr>\n",
       "      <th>0</th>\n",
       "      <td>Acquired immune deficiency syndrome (AIDS) (di...</td>\n",
       "      <td>fatigue associate aid</td>\n",
       "    </tr>\n",
       "    <tr>\n",
       "      <th>1</th>\n",
       "      <td>Acquired immune deficiency syndrome (AIDS) (di...</td>\n",
       "      <td>malaise associate aid</td>\n",
       "    </tr>\n",
       "    <tr>\n",
       "      <th>2</th>\n",
       "      <td>Acquired immune deficiency syndrome (AIDS) (di...</td>\n",
       "      <td>hepatomegaly associate aid</td>\n",
       "    </tr>\n",
       "    <tr>\n",
       "      <th>3</th>\n",
       "      <td>Acute disease</td>\n",
       "      <td>acute vomit</td>\n",
       "    </tr>\n",
       "    <tr>\n",
       "      <th>4</th>\n",
       "      <td>Acute disease</td>\n",
       "      <td>benign paroxysmal positional vertigo nystagmus</td>\n",
       "    </tr>\n",
       "  </tbody>\n",
       "</table>\n",
       "</div>"
      ],
      "text/plain": [
       "                                             disease  \\\n",
       "0  Acquired immune deficiency syndrome (AIDS) (di...   \n",
       "1  Acquired immune deficiency syndrome (AIDS) (di...   \n",
       "2  Acquired immune deficiency syndrome (AIDS) (di...   \n",
       "3                                      Acute disease   \n",
       "4                                      Acute disease   \n",
       "\n",
       "                                         symptoms  \n",
       "0                           fatigue associate aid  \n",
       "1                           malaise associate aid  \n",
       "2                      hepatomegaly associate aid  \n",
       "3                                     acute vomit  \n",
       "4  benign paroxysmal positional vertigo nystagmus  "
      ]
     },
     "execution_count": 15,
     "metadata": {},
     "output_type": "execute_result"
    }
   ],
   "source": [
    "comb.head(5)"
   ]
  },
  {
   "cell_type": "markdown",
   "metadata": {},
   "source": [
    "### We have different symptoms for one disease So, I am making dictionary to combine all the symptoms"
   ]
  },
  {
   "cell_type": "code",
   "execution_count": 16,
   "metadata": {},
   "outputs": [],
   "source": [
    "new = dict.fromkeys(set(comb.disease),None) "
   ]
  },
  {
   "cell_type": "code",
   "execution_count": 17,
   "metadata": {},
   "outputs": [],
   "source": [
    "for i in range(comb.shape[0]):\n",
    "    if comb.iloc[i].disease in new:\n",
    "        if new.get(comb.iloc[i].disease) is None:\n",
    "            new[comb.iloc[i].disease] = comb.iloc[i].symptoms\n",
    "        else:\n",
    "            new[comb.iloc[i].disease] = new.get(comb.iloc[i].disease) + ',' + comb.iloc[i].symptoms"
   ]
  },
  {
   "cell_type": "code",
   "execution_count": 19,
   "metadata": {
    "scrolled": true
   },
   "outputs": [],
   "source": [
    "temp = pd.DataFrame.from_dict(data=new,orient='index').rename(columns={0:'symptoms'})\n",
    "temp['disease'] = temp.index\n",
    "temp.index = range(temp.shape[0])"
   ]
  },
  {
   "cell_type": "code",
   "execution_count": 23,
   "metadata": {},
   "outputs": [
    {
     "data": {
      "text/html": [
       "<div>\n",
       "<style scoped>\n",
       "    .dataframe tbody tr th:only-of-type {\n",
       "        vertical-align: middle;\n",
       "    }\n",
       "\n",
       "    .dataframe tbody tr th {\n",
       "        vertical-align: top;\n",
       "    }\n",
       "\n",
       "    .dataframe thead th {\n",
       "        text-align: right;\n",
       "    }\n",
       "</style>\n",
       "<table border=\"1\" class=\"dataframe\">\n",
       "  <thead>\n",
       "    <tr style=\"text-align: right;\">\n",
       "      <th></th>\n",
       "      <th>disease</th>\n",
       "      <th>symptoms</th>\n",
       "    </tr>\n",
       "  </thead>\n",
       "  <tbody>\n",
       "    <tr>\n",
       "      <th>0</th>\n",
       "      <td>Malignant vasovagal syndrome</td>\n",
       "      <td>malarial pigment deposition,intermittent fever</td>\n",
       "    </tr>\n",
       "    <tr>\n",
       "      <th>1</th>\n",
       "      <td>(Disturbance of consciousness) or (faint/synco...</td>\n",
       "      <td>syncope,syncope collapse</td>\n",
       "    </tr>\n",
       "    <tr>\n",
       "      <th>2</th>\n",
       "      <td>Blind or low vision - one eye only</td>\n",
       "      <td>syncope,syncope collapse,vasovagal,disturbance...</td>\n",
       "    </tr>\n",
       "    <tr>\n",
       "      <th>3</th>\n",
       "      <td>Irritable bowel syndrome characterized by cons...</td>\n",
       "      <td>unqualified visual loss one eye,visual loss on...</td>\n",
       "    </tr>\n",
       "    <tr>\n",
       "      <th>4</th>\n",
       "      <td>Functional abdominal pain syndrome</td>\n",
       "      <td>constipation disorder</td>\n",
       "    </tr>\n",
       "  </tbody>\n",
       "</table>\n",
       "</div>"
      ],
      "text/plain": [
       "                                             disease  \\\n",
       "0                       Malignant vasovagal syndrome   \n",
       "1  (Disturbance of consciousness) or (faint/synco...   \n",
       "2                 Blind or low vision - one eye only   \n",
       "3  Irritable bowel syndrome characterized by cons...   \n",
       "4                 Functional abdominal pain syndrome   \n",
       "\n",
       "                                            symptoms  \n",
       "0     malarial pigment deposition,intermittent fever  \n",
       "1                           syncope,syncope collapse  \n",
       "2  syncope,syncope collapse,vasovagal,disturbance...  \n",
       "3  unqualified visual loss one eye,visual loss on...  \n",
       "4                              constipation disorder  "
      ]
     },
     "execution_count": 23,
     "metadata": {},
     "output_type": "execute_result"
    }
   ],
   "source": [
    "temp = temp[['disease','symptoms']]\n",
    "temp.head(5)"
   ]
  },
  {
   "cell_type": "markdown",
   "metadata": {},
   "source": [
    "### I am using TFIDF as it povide score to words based on their occurence and will help me find similarity between two symptoms"
   ]
  },
  {
   "cell_type": "code",
   "execution_count": 24,
   "metadata": {
    "scrolled": true
   },
   "outputs": [],
   "source": [
    "from sklearn.feature_extraction.text import CountVectorizer, TfidfVectorizer\n",
    "\n",
    "vec = TfidfVectorizer(ngram_range=(1,1),tokenizer=word_tokenize,\n",
    "               min_df=2, max_df=0.9, strip_accents='unicode', use_idf=1,\n",
    "               smooth_idf=1, sublinear_tf=1,stop_words='english' )\n"
   ]
  },
  {
   "cell_type": "code",
   "execution_count": 25,
   "metadata": {},
   "outputs": [],
   "source": [
    "vector = vec.fit_transform(temp.symptoms.values)"
   ]
  },
  {
   "cell_type": "markdown",
   "metadata": {},
   "source": [
    "### lets fid out symptoms closer to headache"
   ]
  },
  {
   "cell_type": "code",
   "execution_count": 28,
   "metadata": {},
   "outputs": [],
   "source": [
    "from sklearn.metrics.pairwise import cosine_similarity\n",
    "b = dict()\n",
    "for i in range(vector.shape[0]):\n",
    "    b['%s'%i] = cosine_similarity(vector[i],vec.transform(['headache'])) # storing dict with key as index number and \n",
    "                                                                        # value as cosine similarity\n",
    "    \n",
    "    "
   ]
  },
  {
   "cell_type": "code",
   "execution_count": 33,
   "metadata": {},
   "outputs": [],
   "source": [
    "c = []\n",
    "for i in b.keys():\n",
    "    if b.get(i) > 0 and b.get(i) < 1: # getting those index number which have similarity less than 1 and greater than 0\n",
    "        c.append(i)                   # as value equal to 1 will be only headache ones and while 0 one will not be having \n",
    "                                      # headache as symptoms"
   ]
  },
  {
   "cell_type": "markdown",
   "metadata": {},
   "source": [
    "### Above two steps can be combine into one but I kept them separate to have clearity"
   ]
  },
  {
   "cell_type": "markdown",
   "metadata": {},
   "source": [
    "### lets see results of cosine similarity"
   ]
  },
  {
   "cell_type": "code",
   "execution_count": 57,
   "metadata": {
    "scrolled": true
   },
   "outputs": [
    {
     "data": {
      "text/plain": [
       "[('18', array([[1.]])),\n",
       " ('87', array([[1.]])),\n",
       " ('100', array([[1.]])),\n",
       " ('108', array([[1.]])),\n",
       " ('120', array([[1.]])),\n",
       " ('134', array([[1.]])),\n",
       " ('268', array([[1.]])),\n",
       " ('269', array([[1.]])),\n",
       " ('270', array([[1.]])),\n",
       " ('324', array([[1.]])),\n",
       " ('344', array([[1.]])),\n",
       " ('372', array([[1.]])),\n",
       " ('376', array([[1.]])),\n",
       " ('484', array([[1.]])),\n",
       " ('488', array([[1.]])),\n",
       " ('495', array([[1.]])),\n",
       " ('515', array([[1.]])),\n",
       " ('578', array([[1.]])),\n",
       " ('609', array([[1.]])),\n",
       " ('625', array([[1.]])),\n",
       " ('673', array([[1.]])),\n",
       " ('680', array([[1.]])),\n",
       " ('686', array([[1.]])),\n",
       " ('709', array([[1.]])),\n",
       " ('749', array([[1.]])),\n",
       " ('755', array([[1.]])),\n",
       " ('772', array([[1.]])),\n",
       " ('799', array([[1.]])),\n",
       " ('801', array([[1.]])),\n",
       " ('825', array([[1.]])),\n",
       " ('840', array([[1.]])),\n",
       " ('1011', array([[1.]])),\n",
       " ('1015', array([[1.]])),\n",
       " ('1040', array([[1.]])),\n",
       " ('1042', array([[1.]])),\n",
       " ('1074', array([[1.]])),\n",
       " ('1075', array([[1.]])),\n",
       " ('1093', array([[1.]])),\n",
       " ('1112', array([[1.]])),\n",
       " ('1140', array([[1.]])),\n",
       " ('1146', array([[1.]])),\n",
       " ('1208', array([[1.]])),\n",
       " ('1228', array([[1.]])),\n",
       " ('1251', array([[1.]])),\n",
       " ('1308', array([[1.]])),\n",
       " ('1449', array([[1.]])),\n",
       " ('1486', array([[1.]])),\n",
       " ('1517', array([[1.]])),\n",
       " ('1528', array([[1.]])),\n",
       " ('1631', array([[1.]])),\n",
       " ('472', array([[0.75794842]])),\n",
       " ('150', array([[0.68358883]])),\n",
       " ('779', array([[0.68358883]])),\n",
       " ('1667', array([[0.68358883]])),\n",
       " ('210', array([[0.64884947]])),\n",
       " ('1316', array([[0.64884947]])),\n",
       " ('1104', array([[0.53458038]])),\n",
       " ('939', array([[0.52405938]])),\n",
       " ('1338', array([[0.52211361]])),\n",
       " ('356', array([[0.47050833]])),\n",
       " ('14', array([[0.42896095]])),\n",
       " ('146', array([[0.42896095]])),\n",
       " ('1594', array([[0.42896095]])),\n",
       " ('292', array([[0.35327293]])),\n",
       " ('608', array([[0.3477979]])),\n",
       " ('875', array([[0.3477979]])),\n",
       " ('1026', array([[0.28755115]])),\n",
       " ('866', array([[0.2425801]])),\n",
       " ('0', array([[0.]])),\n",
       " ('1', array([[0.]])),\n",
       " ('2', array([[0.]])),\n",
       " ('3', array([[0.]])),\n",
       " ('4', array([[0.]])),\n",
       " ('5', array([[0.]])),\n",
       " ('6', array([[0.]])),\n",
       " ('7', array([[0.]])),\n",
       " ('8', array([[0.]])),\n",
       " ('9', array([[0.]])),\n",
       " ('10', array([[0.]])),\n",
       " ('11', array([[0.]])),\n",
       " ('12', array([[0.]])),\n",
       " ('13', array([[0.]])),\n",
       " ('15', array([[0.]])),\n",
       " ('16', array([[0.]])),\n",
       " ('17', array([[0.]])),\n",
       " ('19', array([[0.]])),\n",
       " ('20', array([[0.]])),\n",
       " ('21', array([[0.]])),\n",
       " ('22', array([[0.]])),\n",
       " ('23', array([[0.]])),\n",
       " ('24', array([[0.]])),\n",
       " ('25', array([[0.]])),\n",
       " ('26', array([[0.]])),\n",
       " ('27', array([[0.]])),\n",
       " ('28', array([[0.]])),\n",
       " ('29', array([[0.]])),\n",
       " ('30', array([[0.]])),\n",
       " ('31', array([[0.]])),\n",
       " ('32', array([[0.]])),\n",
       " ('33', array([[0.]]))]"
      ]
     },
     "execution_count": 57,
     "metadata": {},
     "output_type": "execute_result"
    }
   ],
   "source": [
    "import operator\n",
    "sorted(b.items(), key=operator.itemgetter(1),reverse=True)[:100] # sorting the results"
   ]
  },
  {
   "cell_type": "code",
   "execution_count": 45,
   "metadata": {},
   "outputs": [
    {
     "name": "stdout",
     "output_type": "stream",
     "text": [
      "headache find\n",
      "headache find\n"
     ]
    }
   ],
   "source": [
    "print(temp.iloc[18].symptoms) # where headache is the only symptom\n",
    "print(temp.iloc[100].symptoms )"
   ]
  },
  {
   "cell_type": "code",
   "execution_count": 47,
   "metadata": {},
   "outputs": [
    {
     "name": "stdout",
     "output_type": "stream",
     "text": [
      "newborn physiological jaundice disorder\n",
      "pain finding\n"
     ]
    }
   ],
   "source": [
    "print(temp.iloc[10].symptoms) # no relation to headache\n",
    "print(temp.iloc[13].symptoms )"
   ]
  },
  {
   "cell_type": "code",
   "execution_count": 50,
   "metadata": {},
   "outputs": [
    {
     "data": {
      "text/plain": [
       "14            pain finding,headache find,neuropathic pain\n",
       "146           pain finding,headache find,neuropathic pain\n",
       "150                    thunderclap headache,headache find\n",
       "210                            pain finding,headache find\n",
       "292     post dural puncture headache,headache find,rea...\n",
       "356                      headache find,subjective vertigo\n",
       "472     headache find,menopausal headache,idiopathic s...\n",
       "608     post dural puncture headache,headache follow l...\n",
       "779                      headache find,occipital headache\n",
       "866     menopausal sleeplessness,menopausal,menopausal...\n",
       "875     post dural puncture headache,headache follow l...\n",
       "939                                   menopausal headache\n",
       "1026    thunderclap headache,hemiplegia disorder,bruns...\n",
       "1104               ophthalmoplegia disorder,headache find\n",
       "1316                           pain finding,headache find\n",
       "1338           post dural puncture headache,headache find\n",
       "1594          pain finding,headache find,neuropathic pain\n",
       "1667                     headache find,occipital headache\n",
       "Name: symptoms, dtype: object"
      ]
     },
     "execution_count": 50,
     "metadata": {},
     "output_type": "execute_result"
    }
   ],
   "source": [
    "temp.iloc[c].symptoms # symptoms that are related to headache"
   ]
  },
  {
   "cell_type": "code",
   "execution_count": 51,
   "metadata": {
    "scrolled": true
   },
   "outputs": [],
   "source": [
    "from collections import Counter"
   ]
  },
  {
   "cell_type": "code",
   "execution_count": 52,
   "metadata": {},
   "outputs": [],
   "source": [
    "final = \",\".join(temp.iloc[c].symptoms.values).split(',') # joining all the symptoms to count the occurences"
   ]
  },
  {
   "cell_type": "markdown",
   "metadata": {},
   "source": [
    "### I am removing all the symptoms that contain 'headache' word in them as they are also type of headache and our goal is to find different symptoms related to headache \n",
    "#### symtpoms like 'post dural puncture headache'  will be removed"
   ]
  },
  {
   "cell_type": "code",
   "execution_count": 53,
   "metadata": {
    "scrolled": true
   },
   "outputs": [],
   "source": [
    "ll =Counter([ x for x in final if 'headache' not in x])  # removing headache and counting the occurences"
   ]
  },
  {
   "cell_type": "code",
   "execution_count": 54,
   "metadata": {},
   "outputs": [
    {
     "data": {
      "text/plain": [
       "Counter({'bruns nystagmus': 1,\n",
       "         'hemiplegia disorder': 1,\n",
       "         'menopausal': 1,\n",
       "         'menopausal concentration lack': 1,\n",
       "         'menopausal sleeplessness': 1,\n",
       "         'neuropathic pain': 3,\n",
       "         'ophthalmoplegia disorder': 1,\n",
       "         'pain finding': 5,\n",
       "         'reaction spinal lumbar puncture disorder': 3,\n",
       "         'subjective vertigo': 1})"
      ]
     },
     "execution_count": 54,
     "metadata": {},
     "output_type": "execute_result"
    }
   ],
   "source": [
    "ll"
   ]
  },
  {
   "cell_type": "code",
   "execution_count": 55,
   "metadata": {},
   "outputs": [
    {
     "data": {
      "text/plain": [
       "{'bruns nystagmus': 0.1,\n",
       " 'hemiplegia disorder': 0.1,\n",
       " 'menopausal': 0.1,\n",
       " 'menopausal concentration lack': 0.1,\n",
       " 'menopausal sleeplessness': 0.1,\n",
       " 'neuropathic pain': 0.3,\n",
       " 'ophthalmoplegia disorder': 0.1,\n",
       " 'pain finding': 0.5,\n",
       " 'reaction spinal lumbar puncture disorder': 0.3,\n",
       " 'subjective vertigo': 0.1}"
      ]
     },
     "execution_count": 55,
     "metadata": {},
     "output_type": "execute_result"
    }
   ],
   "source": [
    "{k: v / len(ll) for k, v in ll.items()} # closeness of other symptoms to headache "
   ]
  },
  {
   "cell_type": "markdown",
   "metadata": {},
   "source": [
    "### So, according this dataset 'pain' is closet to headache which is quite true. we can increase the performance by taking larger datasets"
   ]
  },
  {
   "cell_type": "markdown",
   "metadata": {},
   "source": [
    "### We can do this for all other symptoms. "
   ]
  },
  {
   "cell_type": "code",
   "execution_count": null,
   "metadata": {},
   "outputs": [],
   "source": []
  }
 ],
 "metadata": {
  "kernelspec": {
   "display_name": "Python 3",
   "language": "python",
   "name": "python3"
  },
  "language_info": {
   "codemirror_mode": {
    "name": "ipython",
    "version": 3
   },
   "file_extension": ".py",
   "mimetype": "text/x-python",
   "name": "python",
   "nbconvert_exporter": "python",
   "pygments_lexer": "ipython3",
   "version": "3.6.4"
  }
 },
 "nbformat": 4,
 "nbformat_minor": 2
}
